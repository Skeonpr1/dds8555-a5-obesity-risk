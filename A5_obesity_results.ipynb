{
  "cells": [
    {
      "cell_type": "markdown",
      "metadata": {},
      "source": [
        "# Assignment 5 — Obesity Risk: Model Comparison\n",
        "\n",
        "This notebook loads cross‑validation results, recreates summary plots, and documents Kaggle scores for **four classifiers**:\n",
        "- Model 1 — Multinomial Logistic Regression\n",
        "- Model 2 — Linear Discriminant Analysis (shrinkage)\n",
        "- Model 3 — Naïve Bayes (Gaussian)\n",
        "- Model 4 — Linear SVM (One‑vs‑Rest)\n",
        "\n",
        "**Files expected in the same folder**:\n",
        "- `CV_Summary_Models_1_to_4.csv`\n",
        "- `cv_accuracy_bar.png`, `cv_macroF1_bar.png` (or the `_ggplot.png` versions)\n",
        "- Four submission CSVs (optional)\n"
      ]
    },
    {
      "cell_type": "code",
      "metadata": {},
      "execution_count": null,
      "outputs": [],
      "source": [
        "import pandas as pd\n",
        "import numpy as np\n",
        "from pathlib import Path\n",
        "import matplotlib.pyplot as plt\n",
        "\n",
        "BASE = Path('.')\n",
        "cv_path = BASE / 'CV_Summary_Models_1_to_4.csv'\n",
        "assert cv_path.exists(), f\"CV file not found: {cv_path}\"\n",
        "cv = pd.read_csv(cv_path)\n",
        "cv"
      ]
    },
    {
      "cell_type": "markdown",
      "metadata": {},
      "source": [
        "## Recreate plots from the CV table\n",
        "The plots below are generated from the CSV (no external packages required)."
      ]
    },
    {
      "cell_type": "code",
      "metadata": {},
      "execution_count": null,
      "outputs": [],
      "source": [
        "# Accuracy bar\n",
        "plt.figure(figsize=(8,4))\n",
        "plt.barh(cv['model'], cv['accuracy_mean'])\n",
        "plt.xlabel('Accuracy (mean)')\n",
        "plt.title('CV Accuracy (3-fold stratified)')\n",
        "plt.xlim(0,1)\n",
        "plt.tight_layout()\n",
        "plt.show()\n",
        "\n",
        "# Macro-F1 bar\n",
        "plt.figure(figsize=(8,4))\n",
        "plt.barh(cv['model'], cv['macro_f1_mean'])\n",
        "plt.xlabel('Macro-F1 (mean)')\n",
        "plt.title('CV Macro-F1 (3-fold stratified)')\n",
        "plt.xlim(0,1)\n",
        "plt.tight_layout()\n",
        "plt.show()"
      ]
    },
    {
      "cell_type": "markdown",
      "metadata": {},
      "source": [
        "## Display saved PNGs (if present)\n",
        "If you already created `cv_accuracy_bar_ggplot.png` or similar, they will be shown below."
      ]
    },
    {
      "cell_type": "code",
      "metadata": {},
      "execution_count": null,
      "outputs": [],
      "source": [
        "from IPython.display import display, Image\n",
        "for fname in ['cv_accuracy_bar.png','cv_accuracy_bar_ggplot.png','cv_macroF1_bar.png','cv_macroF1_bar_ggplot.png']:\n",
        "    p = BASE / fname\n",
        "    if p.exists():\n",
        "        display(Image(filename=str(p)))\n",
        "    else:\n",
        "        print(f\"(missing) {fname}\")"
      ]
    },
    {
      "cell_type": "markdown",
      "metadata": {},
      "source": [
        "## Kaggle results (late submission)\n",
        "- Model 1 — Multinomial Logistic Regression: **Private 0.86054**, Public 0.86596  \n",
        "- Model 2 — Linear Discriminant Analysis (shrinkage): Private 0.81286, Public 0.81466  \n",
        "- Model 4 — Linear SVM (One‑vs‑Rest): Private 0.75108, Public 0.75000  \n",
        "- Model 3 — Naïve Bayes (Gaussian): Private 0.58535, Public 0.58887  \n",
        "\n",
        "Public and private scores are close across models, indicating minimal leaderboard overfit. Model 1 is the selected final submission."
      ]
    },
    {
      "cell_type": "markdown",
      "metadata": {},
      "source": [
        "## Notes on assumptions\n",
        "- **Multinomial LR**: linear decision boundary in transformed (one‑hot) space; check multicollinearity and regularization `C`.\n",
        "- **LDA (shrinkage)**: approximately Gaussian per class with shared covariance; shrinkage stabilizes estimates.\n",
        "- **Gaussian NB**: conditional independence approximation; fast baseline for mixed tabular features.\n",
        "- **Linear SVM (OvR)**: margin maximization in high‑dimensional sparse space; scaled numerics recommended."
      ]
    }
  ],
  "metadata": {
    "kernelspec": {
      "display_name": "Python 3",
      "language": "python",
      "name": "python3"
    },
    "language_info": {
      "name": "python",
      "version": "3.x"
    }
  },
  "nbformat": 4,
  "nbformat_minor": 5
}